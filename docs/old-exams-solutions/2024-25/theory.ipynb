{
 "cells": [
  {
   "cell_type": "code",
   "execution_count": 4,
   "id": "88255172-24e5-496d-ae24-f61aaf1adce3",
   "metadata": {},
   "outputs": [],
   "source": [
    "import cv2\n",
    "import numpy as np"
   ]
  },
  {
   "cell_type": "code",
   "execution_count": 5,
   "id": "88df4f11-ef41-48da-ab7f-083b5ffe519b",
   "metadata": {},
   "outputs": [],
   "source": [
    "fx = 5.0  # Focal length in x (you specified 5)\n",
    "fy = 5.0  # Focal length in y (often the same as fx, but can be different)\n",
    "cx = 320.0 # x-coordinate of principal point\n",
    "cy = 240.0 # y-coordinate of principal point\n",
    "camera_matrix = np.array([\n",
    "        [fx, 0, cx, 0],\n",
    "        [0, fy, cy, 0],\n",
    "        [0, 0, 1]\n",
    "    ], dtype=np.float32)"
   ]
  },
  {
   "cell_type": "code",
   "execution_count": 24,
   "id": "45b87867-8f8d-4ca6-80ff-b3f2fe6a60f1",
   "metadata": {},
   "outputs": [
    {
     "data": {
      "text/plain": [
       "array([[[370., 290.]]])"
      ]
     },
     "execution_count": 24,
     "metadata": {},
     "output_type": "execute_result"
    }
   ],
   "source": [
    "#cv2.projectPoints(np.array([0, 0, 10]), camera_matrix)\n",
    "point_3d = np.array([100, 100, 10], dtype=\"float\").reshape(3, 1) \n",
    "image_points, _ = cv2.projectPoints(point_3d, np.zeros((3,1)), np.zeros((3,1)), camera_matrix, np.zeros((5,1)))\n",
    "image_points"
   ]
  }
 ],
 "metadata": {
  "kernelspec": {
   "display_name": "Python 3 (ipykernel)",
   "language": "python",
   "name": "python3"
  },
  "language_info": {
   "codemirror_mode": {
    "name": "ipython",
    "version": 3
   },
   "file_extension": ".py",
   "mimetype": "text/x-python",
   "name": "python",
   "nbconvert_exporter": "python",
   "pygments_lexer": "ipython3",
   "version": "3.13.1"
  }
 },
 "nbformat": 4,
 "nbformat_minor": 5
}
